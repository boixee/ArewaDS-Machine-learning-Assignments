{
 "cells": [
  {
   "attachments": {},
   "cell_type": "markdown",
   "metadata": {},
   "source": [
    "# Try it in Excel\n",
    "\n",
    "Did you know you can create donut, pie, and waffle charts in Excel? Using a dataset of your choice, create these three charts right in an Excel spreadsheet."
   ]
  },
  {
   "attachments": {},
   "cell_type": "markdown",
   "metadata": {},
   "source": [
    "## I created and saved it in google spreadsheet"
   ]
  },
  {
   "attachments": {},
   "cell_type": "markdown",
   "metadata": {},
   "source": [
    "For Pie chart [click](https://docs.google.com/spreadsheets/d/1dQyz-4Xn3c2pcDczjf3gdurbz1sM_uKmfdxw-EEmPeE/edit#gid=1113451990)"
   ]
  },
  {
   "attachments": {},
   "cell_type": "markdown",
   "metadata": {},
   "source": [
    "For donut chart [click](https://docs.google.com/spreadsheets/d/1z02wzqMq0-eulrC98XUmno5m3TnDHHIPfvp82jgXbZA/edit#gid=1302663434)"
   ]
  },
  {
   "attachments": {},
   "cell_type": "markdown",
   "metadata": {},
   "source": [
    "For waffle chart [click](https://docs.google.com/spreadsheets/d/1dQyz-4Xn3c2pcDczjf3gdurbz1sM_uKmfdxw-EEmPeE/edit#gid=1113451990)"
   ]
  }
 ],
 "metadata": {
  "kernelspec": {
   "display_name": "arewa",
   "language": "python",
   "name": "python3"
  },
  "language_info": {
   "codemirror_mode": {
    "name": "ipython",
    "version": 3
   },
   "file_extension": ".py",
   "mimetype": "text/x-python",
   "name": "python",
   "nbconvert_exporter": "python",
   "pygments_lexer": "ipython3",
   "version": "3.11.0"
  },
  "orig_nbformat": 4
 },
 "nbformat": 4,
 "nbformat_minor": 2
}
