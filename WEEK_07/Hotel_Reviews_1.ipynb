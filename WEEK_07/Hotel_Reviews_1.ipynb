{
 "cells": [
  {
   "attachments": {},
   "cell_type": "markdown",
   "metadata": {},
   "source": [
    "**NLTK**\n",
    "The Natural Language Toolkit (NLTK) seems to be a Python programming environment for creating applications for statistical natural language processing (NLP).\n",
    "\n",
    "For tokenization, parsing, classification, stemming, labeling, as well as semantic reasoning, it includes language processing libraries. Additionally, it comes with a curriculum and even a book to describes the usually presented various language processing jobs that NLTK offers, together with visual demos including experimental data repositories.\n",
    "\n",
    "A collection of libraries as well as applications for statistics language comprehension can be found in the NLTK (Natural Language Toolkit) Library. One of the most potent NLP libraries, it includes tools that allow computers to comprehend natural language as well as respond appropriately whenever it is used."
   ]
  }
 ],
 "metadata": {
  "language_info": {
   "name": "python"
  },
  "orig_nbformat": 4
 },
 "nbformat": 4,
 "nbformat_minor": 2
}
