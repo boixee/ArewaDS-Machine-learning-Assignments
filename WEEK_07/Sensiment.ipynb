{
 "cells": [
  {
   "cell_type": "code",
   "execution_count": 2,
   "metadata": {},
   "outputs": [
    {
     "name": "stderr",
     "output_type": "stream",
     "text": [
      "[nltk_data] Downloading package vader_lexicon to\n",
      "[nltk_data]     C:\\Users\\Jibrin\\AppData\\Roaming\\nltk_data...\n"
     ]
    },
    {
     "name": "stdout",
     "output_type": "stream",
     "text": [
      "Sentiment: Positive\n",
      "Sentiment Scores: {'neg': 0.0, 'neu': 0.429, 'pos': 0.571, 'compound': 0.9184}\n"
     ]
    }
   ],
   "source": [
    "import nltk\n",
    "from nltk.sentiment import SentimentIntensityAnalyzer\n",
    "\n",
    "\n",
    "nltk.download('vader_lexicon')\n",
    "\n",
    "\n",
    "sia = SentimentIntensityAnalyzer()\n",
    "\n",
    "# Example text\n",
    "text = \"I love this place! The food is amazing and the service is excellent.\"\n",
    "\n",
    "# runing the sentiment analysis\n",
    "sentiment_scores = sia.polarity_scores(text)\n",
    "\n",
    "\n",
    "if sentiment_scores['compound'] >= 0.05:\n",
    "    sentiment = 'Positive'\n",
    "elif sentiment_scores['compound'] <= -0.05:\n",
    "    sentiment = 'Negative'\n",
    "else:\n",
    "    sentiment = 'Neutral'\n",
    "\n",
    "# Print the sentiment and the sentiment scores\n",
    "print(\"Sentiment:\", sentiment)\n",
    "print(\"Sentiment Scores:\", sentiment_scores)\n"
   ]
  },
  {
   "attachments": {},
   "cell_type": "markdown",
   "metadata": {},
   "source": [
    "Sentiment as the 500 Emily Dickinson poems data was deleted from kaggle"
   ]
  }
 ],
 "metadata": {
  "kernelspec": {
   "display_name": "ArewaDS",
   "language": "python",
   "name": "python3"
  },
  "language_info": {
   "codemirror_mode": {
    "name": "ipython",
    "version": 3
   },
   "file_extension": ".py",
   "mimetype": "text/x-python",
   "name": "python",
   "nbconvert_exporter": "python",
   "pygments_lexer": "ipython3",
   "version": "3.11.4"
  },
  "orig_nbformat": 4
 },
 "nbformat": 4,
 "nbformat_minor": 2
}
